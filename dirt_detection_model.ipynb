{
  "cells": [
    {
      "cell_type": "markdown",
      "metadata": {
        "id": "view-in-github",
        "colab_type": "text"
      },
      "source": [
        "<a href=\"https://colab.research.google.com/github/RV-delta/YOLOv4-Cloud-Tutorial/blob/master/dirt_detection_model.ipynb\" target=\"_parent\"><img src=\"https://colab.research.google.com/assets/colab-badge.svg\" alt=\"Open In Colab\"/></a>"
      ]
    },
    {
      "cell_type": "code",
      "execution_count": null,
      "metadata": {
        "id": "1bVt-yxPjcpa"
      },
      "outputs": [],
      "source": [
        "from google.colab import drive\n",
        "drive.mount('/content/drive')"
      ]
    },
    {
      "cell_type": "code",
      "execution_count": null,
      "metadata": {
        "id": "tCtwnw97jf5s"
      },
      "outputs": [],
      "source": [
        "# clone darknet repo\n",
        "!git clone https://github.com/AlexeyAB/darknet"
      ]
    },
    {
      "cell_type": "code",
      "execution_count": null,
      "metadata": {
        "id": "2J_gkdLNpFpI"
      },
      "outputs": [],
      "source": [
        "# change makefile to have GPU and OPENCV enabled\n",
        "%cd darknet\n",
        "!sed -i 's/OPENCV=0/OPENCV=1/' Makefile\n",
        "!sed -i 's/GPU=0/GPU=1/' Makefile\n",
        "!sed -i 's/CUDNN=0/CUDNN=1/' Makefile\n",
        "!sed -i 's/CUDNN_HALF=0/CUDNN_HALF=1/' Makefile"
      ]
    },
    {
      "cell_type": "code",
      "execution_count": null,
      "metadata": {
        "id": "4dKhPrOMpHns"
      },
      "outputs": [],
      "source": [
        "# verify CUDA\n",
        "!/usr/local/cuda/bin/nvcc --version"
      ]
    },
    {
      "cell_type": "code",
      "execution_count": null,
      "metadata": {
        "id": "8bBsQw5RpM2t"
      },
      "outputs": [],
      "source": [
        "# make darknet (builds darknet so that you can then use the darknet executable file to run or train object detectors)\n",
        "!make"
      ]
    },
    {
      "cell_type": "code",
      "execution_count": null,
      "metadata": {
        "id": "G9Fv0wjCMPYY"
      },
      "outputs": [],
      "source": [
        "# define helper functions\n",
        "def imShow(path):\n",
        "  import cv2\n",
        "  import matplotlib.pyplot as plt\n",
        "  %matplotlib inline\n",
        "\n",
        "  image = cv2.imread(path)\n",
        "  height, width = image.shape[:2]\n",
        "  resized_image = cv2.resize(image,(3*width, 3*height), interpolation = cv2.INTER_CUBIC)\n",
        "\n",
        "  fig = plt.gcf()\n",
        "  fig.set_size_inches(18, 10)\n",
        "  plt.axis(\"off\")\n",
        "  plt.imshow(cv2.cvtColor(resized_image, cv2.COLOR_BGR2RGB))\n",
        "  plt.show()\n",
        "\n",
        "# use this to upload files\n",
        "def upload():\n",
        "  from google.colab import files\n",
        "  uploaded = files.upload() \n",
        "  for name, data in uploaded.items():\n",
        "    with open(name, 'wb') as f:\n",
        "      f.write(data)\n",
        "      print ('saved file', name)\n",
        "\n",
        "# use this to download a file  \n",
        "def download(path):\n",
        "  from google.colab import files\n",
        "  files.download(path)"
      ]
    },
    {
      "cell_type": "markdown",
      "metadata": {
        "id": "kcaL1kTJjjwh"
      },
      "source": [
        "Files needed in the yolov4 folder:\n",
        "\n",
        "Labeled custom dataset:\n",
        "- Train data (obj.zip)\n",
        "- Validation data (valid.zip)\n",
        "- Test data (test.zip)\n",
        "\n",
        "Configutation file (yolov4-obj.cfg)\n",
        "\n",
        "obj.data and obj.names files\n",
        "\n",
        "train.txt file\n",
        "\n"
      ]
    },
    {
      "cell_type": "code",
      "execution_count": null,
      "metadata": {
        "id": "80HzusrZnN3R"
      },
      "outputs": [],
      "source": [
        "#check what is in the file\n",
        "!ls /content/drive/MyDrive/yolov4\n"
      ]
    },
    {
      "cell_type": "code",
      "execution_count": null,
      "metadata": {
        "id": "LWY8ppvCoGG6"
      },
      "outputs": [],
      "source": [
        "#copy over both datasets into the root directory of the Colab VM\n",
        "#change test to valid folder in drive\n",
        "!cp /content/drive/MyDrive/yolov4/obj.zip ../\n",
        "!cp /content/drive/MyDrive/yolov4/test.zip ../\n",
        "!cp /content/drive/MyDrive/yolov4/test2.zip ../\n"
      ]
    },
    {
      "cell_type": "code",
      "execution_count": null,
      "metadata": {
        "id": "JCAtnSLtolcb"
      },
      "outputs": [],
      "source": [
        "#unzip datasets and it will be stored in the /darknet/data folder\n",
        "!unzip ../obj.zip -d data/\n",
        "!unzip ../test.zip -d data/\n",
        "!unzip ../test2.zip -d data/"
      ]
    },
    {
      "cell_type": "code",
      "execution_count": null,
      "metadata": {
        "id": "BCI0uZQwp5h7"
      },
      "outputs": [],
      "source": [
        "#!!only in case you start a new cfg file!!\n",
        "# download cfg to google drive and change its name\n",
        "#!cp cfg/yolov4-custom.cfg /content/drive/MyDrive/yolov4/yolov4-obj.cfg"
      ]
    },
    {
      "cell_type": "markdown",
      "metadata": {
        "id": "YQUDXrhJekxl"
      },
      "source": [
        "Now you need to edit the .cfg to fit your needs based on your object detector. Open it up in a code or text editor to do so.\n",
        "\n",
        "The necessary parameters are explained in the thesis.\n"
      ]
    },
    {
      "cell_type": "markdown",
      "metadata": {
        "id": "8CTqT8M3wgvv"
      },
      "source": [
        "change the yolov4-obj file"
      ]
    },
    {
      "cell_type": "code",
      "execution_count": null,
      "metadata": {
        "id": "4MkFW0tPwfkH"
      },
      "outputs": [],
      "source": [
        "# upload the custom .cfg back to cloud VM from Google Drive\n",
        "!cp /content/drive/MyDrive/yolov4/yolov4-obj.cfg ./cfg\n",
        "#!cp /content/drive/MyDrive/yolov4/Testing_With_All_Classes/full_data_default/yolov4-obj.cfg ./cfg"
      ]
    },
    {
      "cell_type": "markdown",
      "metadata": {
        "id": "a4b33o9EiHUD"
      },
      "source": [
        "### obj.names and obj.data \n"
      ]
    },
    {
      "cell_type": "code",
      "execution_count": null,
      "metadata": {
        "id": "zdu6eWafyUAQ"
      },
      "outputs": [],
      "source": [
        "# upload the obj.names and obj.data files to cloud VM from Google Drive\n",
        "\n",
        "!cp /content/drive/MyDrive/yolov4/obj.names ./data\n",
        "!cp /content/drive/MyDrive/yolov4/obj.data ./data\n"
      ]
    },
    {
      "cell_type": "markdown",
      "metadata": {
        "id": "zIA38VpCU1y9"
      },
      "source": [
        "## iii) Generating train.txt and test.txt"
      ]
    },
    {
      "cell_type": "code",
      "execution_count": null,
      "metadata": {
        "id": "4mgiK3C2ZF0k"
      },
      "outputs": [],
      "source": [
        "# upload the generate_train.py and generate_test.py script to cloud VM from Google Drive\n",
        "!cp /content/drive/MyDrive/yolov4/generate_train.py ./\n",
        "!cp /content/drive/MyDrive/yolov4/generate_test.py ./"
      ]
    },
    {
      "cell_type": "code",
      "execution_count": null,
      "metadata": {
        "id": "rIYLNr_P0ZWd"
      },
      "outputs": [],
      "source": [
        "#run both scripts to generate the two txt files\n",
        "!python generate_train.py\n",
        "!python generate_test.py"
      ]
    },
    {
      "cell_type": "code",
      "execution_count": null,
      "metadata": {
        "id": "07ZYk6Ha0ka_"
      },
      "outputs": [],
      "source": [
        "# verify that the newly generated train.txt and test.txt can be seen in our darknet/data folder\n",
        "!ls data/"
      ]
    },
    {
      "cell_type": "markdown",
      "metadata": {
        "id": "BbEK3L3V0s2h"
      },
      "source": [
        "# Step 4: Download pre-trained weights for the convolutional layers.\n",
        "This step downloads the weights for the convolutional layers of the YOLOv4 network. By using these weights it helps your custom object detector to be way more accurate and not have to train as long. You don't have to use these weights but trust me it will help your modle converge and be accurate way faster. USE IT!"
      ]
    },
    {
      "cell_type": "code",
      "execution_count": null,
      "metadata": {
        "id": "yxDa9_WQ0ybQ"
      },
      "outputs": [],
      "source": [
        "!wget https://github.com/AlexeyAB/darknet/releases/download/darknet_yolo_v3_optimal/yolov4.conv.137\n"
      ]
    },
    {
      "cell_type": "markdown",
      "metadata": {
        "id": "-I4AIwpc1Bxa"
      },
      "source": [
        "#Train Your Custom Object Detector!\n",
        "\n",
        "The next command will start the training of the detection model"
      ]
    },
    {
      "cell_type": "code",
      "execution_count": null,
      "metadata": {
        "id": "W7__0k1q1Bmw"
      },
      "outputs": [],
      "source": [
        "# train your custom detector\n",
        "\n",
        "!./darknet detector train data/obj.data cfg/yolov4-obj.cfg yolov4.conv.137  -dont_show -map"
      ]
    },
    {
      "cell_type": "code",
      "execution_count": null,
      "metadata": {
        "id": "uXPGYKmchv7Z"
      },
      "outputs": [],
      "source": [
        "# show chart.png of how custom object detector did with training\n",
        "imShow('chart.png')"
      ]
    },
    {
      "cell_type": "code",
      "execution_count": null,
      "metadata": {
        "id": "Fl7PsmikjCBW"
      },
      "outputs": [],
      "source": [
        "# kick off training from where it last saved\n",
        "!./darknet detector train data/obj.data cfg/yolov4-obj.cfg /content/drive/MyDrive/yolov4/backup/yolov4-obj_best.weights  -dont_show -map"
      ]
    },
    {
      "cell_type": "markdown",
      "metadata": {
        "id": "M6P9HifTn2sG"
      },
      "source": [
        ""
      ]
    },
    {
      "cell_type": "code",
      "execution_count": null,
      "metadata": {
        "id": "2UoSBmTFlNep"
      },
      "outputs": [],
      "source": [
        "#To check the results of the training based on the validation dataset\n",
        "!./darknet detector map data/obj.data cfg/yolov4-obj.cfg /content/drive/MyDrive/yolov4/Testing_With_All_Classes/full_data_default/yolov4-obj_best.weights -dont_show -image"
      ]
    },
    {
      "cell_type": "markdown",
      "metadata": {
        "id": "8dfPY2h39m-T"
      },
      "source": [
        "# Step 7: Run Your Custom Object Detector\n"
      ]
    },
    {
      "cell_type": "code",
      "execution_count": null,
      "metadata": {
        "id": "xXkZNeA09o2f"
      },
      "outputs": [],
      "source": [
        "# need to set our custom cfg to test mode \n",
        "%cd cfg\n",
        "!sed -i 's/batch=64/batch=1/' yolov4-obj.cfg\n",
        "!sed -i 's/subdivisions=16/subdivisions=1/' yolov4-obj.cfg\n",
        "%cd .."
      ]
    },
    {
      "cell_type": "code",
      "execution_count": null,
      "metadata": {
        "id": "o7IIzEal90dA"
      },
      "outputs": [],
      "source": [
        "# run your custom detector with this command (upload an image to your google drive to test, thresh flag sets accuracy that detection must be in order to show it)\n",
        "\n",
        "!./darknet detector test data/obj.data cfg/yolov4-obj.cfg /content/drive/MyDrive/yolov4/Testing_With_All_Classes/full_data_default/yolov4-obj_best.weights /content/darknet/data/test/carbon_86.jpg\n",
        "imShow('predictions.jpg')"
      ]
    }
  ],
  "metadata": {
    "accelerator": "GPU",
    "colab": {
      "collapsed_sections": [],
      "machine_shape": "hm",
      "name": "Kopie van dirt_detection_model.ipynb",
      "provenance": [],
      "include_colab_link": true
    },
    "kernelspec": {
      "display_name": "Python 3",
      "name": "python3"
    },
    "language_info": {
      "name": "python"
    }
  },
  "nbformat": 4,
  "nbformat_minor": 0
}